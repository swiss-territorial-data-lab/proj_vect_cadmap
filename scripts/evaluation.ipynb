{
 "cells": [
  {
   "cell_type": "code",
   "execution_count": 1,
   "id": "726be998-0970-4dc7-a8c3-9ce0558faa6b",
   "metadata": {
    "tags": []
   },
   "outputs": [],
   "source": [
    "import os\n",
    "import sys\n",
    "import cv2\n",
    "from affine import Affine\n",
    "from osgeo import gdal\n",
    "from tqdm import tqdm\n",
    "import numpy as np\n",
    "import geopandas as gpd\n",
    "from shapely.geometry import box, Polygon\n",
    "from shapely.affinity import affine_transform\n",
    "from shapely.ops import nearest_points\n",
    "from shapely import hausdorff_distance\n",
    "from matplotlib import pyplot as plt"
   ]
  },
  {
   "cell_type": "markdown",
   "id": "54b74aba-4fc9-4d7f-aaef-75db1f35a4b8",
   "metadata": {},
   "source": [
    "# IoU and Hausdorff"
   ]
  },
  {
   "cell_type": "code",
   "execution_count": 2,
   "id": "18e7f4d6-adef-4f7e-ad0a-a8413d792a48",
   "metadata": {},
   "outputs": [],
   "source": [
    "def calculate_stats(df1, df2):\n",
    "    # Define a function to calculate the intersection over union (IoU) of two polygons\n",
    "    def iou(p1, p2):\n",
    "        intersection = p1.intersection(p2).area\n",
    "        union = p1.union(p2).area\n",
    "        return intersection / union\n",
    "    \n",
    "    # Initialize an empty list to store the matched pairs\n",
    "    matched_pairs = []\n",
    "    \n",
    "    # Loop through the first polygon series\n",
    "    for i, row1 in df1.iterrows():\n",
    "        # Get the polygon geometry from the row\n",
    "        p1 = row1.geometry\n",
    "        \n",
    "        # Loop through the second polygon series\n",
    "        for j, row2 in df2.iterrows():\n",
    "            # Get the polygon geometry from the row\n",
    "            p2 = row2.geometry\n",
    "            \n",
    "            # Calculate the IoU of the two polygons\n",
    "            iou_score = iou(p1, p2)\n",
    "            \n",
    "            # If the IoU is over 0.7, append the pair and the score to the matched list\n",
    "            if iou_score > 0.7:\n",
    "                matched_pairs.append((i, j, iou_score))\n",
    "    \n",
    "    # Print the number of matched pairs\n",
    "    print(f\"There are {len(matched_pairs)} matched pairs.\")\n",
    "    \n",
    "    # Initialize two empty lists to store the mean IoU and Hausdorff distances\n",
    "    iou = []\n",
    "    hausdorff = []\n",
    "    \n",
    "    # Loop through the matched pairs\n",
    "    for pair in matched_pairs:\n",
    "        # Get the indices and the IoU score from the pair\n",
    "        i, j, iou_score = pair\n",
    "        \n",
    "        # Get the polygon geometries from the dataframes using the indices\n",
    "        p1 = df1.loc[i, \"geometry\"]\n",
    "        p2 = df2.loc[j, \"geometry\"]\n",
    "        \n",
    "        # Calculate the Hausdorff distance of the two polygons\n",
    "        hausdorff_distance = p1.hausdorff_distance(p2)\n",
    "        \n",
    "        # Append the IoU score and the Hausdorff distance to the lists\n",
    "        iou.append(iou_score)\n",
    "        hausdorff.append(hausdorff_distance)\n",
    "    \n",
    "    # Calculate the mean IoU and Hausdorff distances from the lists\n",
    "    mean_iou = sum(iou) / len(iou)\n",
    "    mean_hausdorff = sum(hausdorff) / len(hausdorff)\n",
    "    \n",
    "    # Print the results\n",
    "    print(f\"The mean IoU of the matched pairs is {mean_iou:.3f}.\")\n",
    "    print(f\"The mean Hausdorff distance of the matched pairs is {mean_hausdorff:.3f}.\")\n",
    "\n",
    "    return iou, hausdorff\n"
   ]
  },
  {
   "cell_type": "code",
   "execution_count": null,
   "id": "80b263f7-3790-47b2-b991-e973d88a25d0",
   "metadata": {},
   "outputs": [],
   "source": [
    "# read the vector ploygons dataframe for results from elementary, sophisticated methods and ground truth \n",
    "df_elementary = gpd.read_file('~/Dufour_Origine_Aire-la-Ville_Plan_12/aggregated_init_projected.shp')\n",
    "df_sophisticated = gpd.read_file('~/Dufour_Origine_Aire-la-Ville_Plan_12/aggregated_final_projected.shp')\n",
    "df_gt = gpd.read_file('~/Dufour_Origine_Aire-la-Ville_Plan_12/ArcGIS/Aire-la-Ville-plan-12/Aire-la-Ville-plan-12.gdb', layer='polygons').explode()"
   ]
  },
  {
   "cell_type": "code",
   "execution_count": 4,
   "id": "2c4ca8d7-7e8d-4608-a038-9e44907adf21",
   "metadata": {},
   "outputs": [
    {
     "name": "stdout",
     "output_type": "stream",
     "text": [
      "There are 202 matched pairs.\n",
      "The mean IoU of the matched pairs is 0.971.\n",
      "The mean Hausdorff distance of the matched pairs is 0.729.\n"
     ]
    }
   ],
   "source": [
    "sophisticated_iou, sophisticated_hausdorff = calculate_stats(df_gt, df_sophisticated)"
   ]
  },
  {
   "cell_type": "code",
   "execution_count": 5,
   "id": "5917f146-4072-4052-80ef-63e72438b144",
   "metadata": {},
   "outputs": [
    {
     "name": "stdout",
     "output_type": "stream",
     "text": [
      "There are 199 matched pairs.\n",
      "The mean IoU of the matched pairs is 0.979.\n",
      "The mean Hausdorff distance of the matched pairs is 0.853.\n"
     ]
    }
   ],
   "source": [
    "elementary_iou, elementary_hausdorff = calculate_stats(df_gt, df_elementary)"
   ]
  },
  {
   "cell_type": "code",
   "execution_count": 6,
   "id": "8d9e9fa6-e0f6-4449-8b56-b448b660819c",
   "metadata": {},
   "outputs": [
    {
     "data": {
      "text/plain": [
       "(0.1166378046258584, 0.132796275011888)"
      ]
     },
     "execution_count": 6,
     "metadata": {},
     "output_type": "execute_result"
    }
   ],
   "source": [
    "np.quantile(elementary_hausdorff, 0.5), np.quantile(sophisticated_hausdorff, 0.5)"
   ]
  },
  {
   "cell_type": "code",
   "execution_count": 7,
   "id": "dabc6d66-a9ae-4d95-ac85-6b6033db9519",
   "metadata": {
    "scrolled": true
   },
   "outputs": [
    {
     "data": {
      "image/png": "[encoded data removed]",
      "text/plain": [
       "<Figure size 640x480 with 1 Axes>"
      ]
     },
     "metadata": {},
     "output_type": "display_data"
    }
   ],
   "source": [
    "plt.hist(elementary_hausdorff, bins=100, log=True)\n",
    "plt.show()"
   ]
  }
 ],
 "metadata": {
  "kernelspec": {
   "display_name": "Python 3 (ipykernel)",
   "language": "python",
   "name": "python3"
  },
  "language_info": {
   "codemirror_mode": {
    "name": "ipython",
    "version": 3
   },
   "file_extension": ".py",
   "mimetype": "text/x-python",
   "name": "python",
   "nbconvert_exporter": "python",
   "pygments_lexer": "ipython3",
   "version": "3.12.0"
  }
 },
 "nbformat": 4,
 "nbformat_minor": 5
}
